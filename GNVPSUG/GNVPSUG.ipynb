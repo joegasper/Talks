{
 "cells": [
  {
   "cell_type": "markdown",
   "metadata": {},
   "source": [
    "<style>\n",
    "table {\n",
    "    border-collapse: collapse;\n",
    "}\n",
    "table, th, td {\n",
    "   border: none!important;\n",
    "}\n",
    "</style>\n",
    "\n",
    "| <img src=\"https://avatars.githubusercontent.com/u/6902269?v=4\" width=\"200\" alt=\"Joe Gasper headshot\" style=\"border-radius: 50%\"> | <h1>Joe Gasper</h1><br/>Microsoft MVP<br />M365 Apps &amp; Services (New! Oct 2022)<br /><a href=\"https://www.linkedin.com/in/joegasper/\">https://www.linkedin.com/in/joegasper/</a><br /><a href=\"https://shifts.how\">The #ShiftShow Podcast: https://shifts.how</a> | <h3>Gainesville PowerShell<br />User Group<br /><a href=\"https://twitter.com/gnvpsug\">@gnvpsug</a></h3><br />Exploring PowerShell<br />for SharePoint and Teams<br />(for the non-admin)<br />March 2023 |\n",
    "|--- | --- |---: |"
   ]
  },
  {
   "cell_type": "markdown",
   "metadata": {},
   "source": [
    "---\n",
    "\n",
    "### PnP - Railroad? Consumer goods? What is it?\n",
    "\n",
    "### Getting Started with Modules\n",
    "\n",
    "### Practical Applications \n",
    "\n",
    "---"
   ]
  },
  {
   "cell_type": "markdown",
   "metadata": {},
   "source": [
    "### PnP - More than just a PowerShell Module\n",
    "\n",
    "#### PnP = Patterns & Practices\n",
    "\n",
    "#### PnP Origins\n",
    "\n",
    "\"[Design Patterns](https://learn.microsoft.com/en-us/archive/msdn-magazine/2009/may/patterns-and-practices-simplifying-patterns-and-practices): Elements of Reusable Object-Oriented Software (Addison-Wesley, 1996), which documented many of the basic design patterns we take for granted today\"\n",
    "\n",
    "\"In 2002, the **patterns & practices group** at Microsoft Corporation published the Application Architecture for .NET: Designing Applications and Services guide\"\n",
    "\n",
    "[Started in 2014 as Office 365 Dev PnP](https://devblogs.microsoft.com/microsoft365dev/new-microsoft-365-patterns-and-practices-pnp-team-model-with-new-community-leads/), merged with the SharePoint PnP team, to **form the M365 PnP initiative**. \n",
    "PnP was not just about development, but about community and open-source is really the **\"reference model on engaging with the community\"** internally at Microsoft.\n",
    "\n",
    "\"PnP team is the group of MVPs who are coordinating the different open-source activities across GitHub and other social media channels. This **team consist of Microsoft employees and community members (MVPs)** focused on helping the community the best use of Microsoft products, like Microsoft Teams, OneDrive, SharePoint or API layer like Microsoft Graph.\"\n",
    "\n",
    "#### PnP is a **Community**\n",
    "\n",
    "Microsoft 365 PnP \"Manifesto\" - https://github.com/pnp/docs/wiki\n",
    "\n",
    "M365 & Power Platform Community - https://aka.ms/community/home\n",
    "\n",
    "M365 & Power Platform Samples - https://aka.ms/community/samples\n",
    "\n",
    "M365 & Power Platform Blog - https://aka.ms/community/blog\n",
    "\n",
    "M365 & Power Platform YouTube - https://aka.ms/community/videos\n",
    "\n",
    "---"
   ]
  },
  {
   "cell_type": "markdown",
   "metadata": {},
   "source": [
    "### Setting up demo environment "
   ]
  },
  {
   "cell_type": "code",
   "execution_count": null,
   "id": "195e45c4",
   "metadata": {
    "dotnet_interactive": {
     "language": "pwsh"
    },
    "polyglot_notebook": {
     "kernelName": "pwsh"
    },
    "vscode": {
     "languageId": "powershell"
    }
   },
   "outputs": [],
   "source": [
    "$Tenant = 'm365x49343708'\n",
    "$Domain = \"$($Tenant).onmicrosoft.com\"\n",
    "$MeganUPN = \"meganb@$Domain\"\n",
    "$AdminUPN = \"admin@$Domain\"\n",
    "$DebraUPN = \"debrab@$Domain\"\n",
    "$MeganCreds = Get-Credential -UserName $MeganUPN -Message \"Enter your password\"\n",
    "$AdminCreds = Get-Credential -UserName $AdminUPN -Message \"Enter your password\""
   ]
  },
  {
   "cell_type": "markdown",
   "id": "be1ccd93",
   "metadata": {},
   "source": [
    "---\n",
    "\n",
    "### Microsoft Teams and PnP PowerShell Modules - Installation\n",
    "\n",
    "#### Install Microsoft Teams PowerShell Module"
   ]
  },
  {
   "cell_type": "code",
   "execution_count": null,
   "id": "4c062c55",
   "metadata": {
    "dotnet_interactive": {
     "language": "pwsh"
    },
    "polyglot_notebook": {
     "kernelName": "pwsh"
    },
    "vscode": {
     "languageId": "powershell"
    }
   },
   "outputs": [],
   "source": [
    "#Install-Module -Name MicrosoftTeams\n",
    "Get-Module -ListAvailable -Name MicrosoftTeams | \n",
    "    Select Version,Name,@{Name=\"CmdCount\";Expression={$_.ExportedCommands.Count}}"
   ]
  },
  {
   "cell_type": "markdown",
   "id": "52681f23",
   "metadata": {},
   "source": [
    "#### Install PnP PowerShell Module"
   ]
  },
  {
   "cell_type": "code",
   "execution_count": null,
   "id": "ff7f7026",
   "metadata": {
    "dotnet_interactive": {
     "language": "pwsh"
    },
    "polyglot_notebook": {
     "kernelName": "pwsh"
    },
    "vscode": {
     "languageId": "powershell"
    }
   },
   "outputs": [],
   "source": [
    "#Install-Module -Name PnP.PowerShell\n",
    "Get-Module -ListAvailable -Name PnP.PowerShell | \n",
    "    Select Version,Name,@{Name=\"CmdCount\";Expression={$_.ExportedCommands.Count}}"
   ]
  },
  {
   "cell_type": "markdown",
   "id": "77520d6f",
   "metadata": {},
   "source": [
    "---\n",
    "\n",
    "### Command Overlap - What's the difference?\n",
    "\n",
    "#### Policies, Skype4Biz/Phone, new tenant-level features"
   ]
  },
  {
   "cell_type": "code",
   "execution_count": null,
   "id": "a840c7de",
   "metadata": {
    "dotnet_interactive": {
     "language": "pwsh"
    },
    "polyglot_notebook": {
     "kernelName": "pwsh"
    },
    "vscode": {
     "languageId": "powershell"
    }
   },
   "outputs": [],
   "source": [
    "Get-Command -Module PnP.PowerShell -Name *channel* | sort Name | select Name,Source"
   ]
  },
  {
   "cell_type": "code",
   "execution_count": null,
   "id": "2ea5811e",
   "metadata": {
    "dotnet_interactive": {
     "language": "pwsh"
    },
    "polyglot_notebook": {
     "kernelName": "pwsh"
    },
    "vscode": {
     "languageId": "powershell"
    }
   },
   "outputs": [],
   "source": [
    "Get-Command -Module MicrosoftTeams -Name *channel* | sort Name | select Name,Source"
   ]
  },
  {
   "cell_type": "markdown",
   "id": "c0aa2070",
   "metadata": {},
   "source": [
    "---\n",
    "\n",
    "### First time connecting to your tenant with PnP.PowerShell?\n",
    "\n",
    "```powershell\n",
    "D:\\ PS> Connect-PnPOnline -Url https://contoso.sharepoint.com -Interactive\n",
    "```\n",
    "\n",
    "**AADSTS65001: The user or administrator has not consented to use the application with ID '31359c7f-bd7e-475c-86db-fdb8c937548e' named 'PnP Management Shell'. Send an interactive authorization request for this user and resource.**\n",
    "\n",
    "*Global Admin must consent to allow the PnP.PowerShell module to access your tenant.*\n",
    "\n",
    "As a user, you can assist your Global Admin by sending them a link to the consent page."
   ]
  },
  {
   "cell_type": "code",
   "execution_count": null,
   "id": "c43a702a",
   "metadata": {
    "dotnet_interactive": {
     "language": "pwsh"
    },
    "polyglot_notebook": {
     "kernelName": "pwsh"
    },
    "vscode": {
     "languageId": "powershell"
    }
   },
   "outputs": [],
   "source": [
    "Register-PnPManagementShellAccess -ShowConsentUrl -Tenant $Domain"
   ]
  },
  {
   "cell_type": "markdown",
   "id": "459973ab",
   "metadata": {},
   "source": [
    "Share the following URL with a person that has appropriate access rights on the Azure AD to grant consent for Application Registrations:\n",
    "\n",
    "```htm\n",
    "https://login.microsoftonline.com/<tenant domain>/adminconsent?client_id=31359c7f-bd7e-475c-86db-fdb8c937548e\n",
    "```\n",
    "\n",
    "|<img src=\"https://raw.githubusercontent.com/joegasper/Talks/main/GNVPSUG/consent1.png\"> |<img src=\"https://raw.githubusercontent.com/joegasper/Talks/main/GNVPSUG/consent2.png\"> |<img src=\"https://raw.githubusercontent.com/joegasper/Talks/main/GNVPSUG/consent3.png\"> |<img src=\"https://raw.githubusercontent.com/joegasper/Talks/main/GNVPSUG/consent4.png\"> |\n",
    "|:---:|:---:|:---:|:---:|"
   ]
  },
  {
   "cell_type": "markdown",
   "id": "f5212af6",
   "metadata": {},
   "source": [
    "---\n",
    "\n",
    "### Connecting to SharePoint Online with PnP.PowerShell"
   ]
  },
  {
   "cell_type": "code",
   "execution_count": null,
   "id": "e8320c12",
   "metadata": {
    "dotnet_interactive": {
     "language": "pwsh"
    },
    "polyglot_notebook": {
     "kernelName": "pwsh"
    },
    "vscode": {
     "languageId": "powershell"
    }
   },
   "outputs": [],
   "source": [
    "$MeganCreds.UserName\n",
    "$MeganCx = Connect-PnPOnline -Url \"https://$($Tenant).sharepoint.com\" -Credentials $MeganCreds -ReturnConnection\n",
    "$MeganCx | fl *\n",
    "Write-Output ('$MeganCx.Url = ' + $MeganCx.Url)\n",
    "#or\n",
    "Connect-PnPOnline -Url \"https://$($Tenant).sharepoint.com\" -Credentials $MeganCreds\n",
    "Write-Output ('(Get-PnPConnection).Url = ' + (Get-PnPConnection).Url)\n",
    "#should\n",
    "#Connect-PnPOnline -Url \"https://$($Tenant).sharepoint.com\" -Interactive"
   ]
  },
  {
   "cell_type": "markdown",
   "id": "dc2de6ff",
   "metadata": {},
   "source": [
    "---\n",
    "\n",
    "### Create a SharePoint Online Communications Site\n",
    "\n",
    "Check out the PnP resource: https://lookbook.microsoft.com/"
   ]
  },
  {
   "cell_type": "code",
   "execution_count": null,
   "id": "68e20e2e",
   "metadata": {
    "dotnet_interactive": {
     "language": "pwsh"
    },
    "polyglot_notebook": {
     "kernelName": "pwsh"
    },
    "vscode": {
     "languageId": "powershell"
    }
   },
   "outputs": [],
   "source": [
    "$params = @{\n",
    "    Type = 'CommunicationSite'\n",
    "    Title = 'CRM Rollout'\n",
    "    Url = \"https://$($Tenant).sharepoint.com/sites/CRMRollout\"\n",
    "    Description = 'Get Ready for the CRM Rollout!'\n",
    "    SiteDesign = 'Topic'\n",
    "}\n",
    "$NewSiteUrl = New-PnPSite @params\n",
    "$NewSiteUrl"
   ]
  },
  {
   "cell_type": "markdown",
   "id": "433ad9b3",
   "metadata": {},
   "source": [
    "#### Add additional site collection owner to the new site"
   ]
  },
  {
   "cell_type": "code",
   "execution_count": null,
   "id": "54a2a436",
   "metadata": {
    "dotnet_interactive": {
     "language": "pwsh"
    },
    "polyglot_notebook": {
     "kernelName": "pwsh"
    },
    "vscode": {
     "languageId": "powershell"
    }
   },
   "outputs": [],
   "source": [
    "#Switch our context(connection) to the new site we created\n",
    "Connect-PnPOnline -Url $NewSiteUrl -Credentials $MeganCreds\n",
    "Add-PnPSiteCollectionAdmin -Owners $DebraUPN\n",
    "Get-PnPSiteCollectionAdmin"
   ]
  },
  {
   "cell_type": "markdown",
   "id": "bfc6b38d",
   "metadata": {},
   "source": [
    "#### Add a modern calendar to the new site (save 29 clicks)"
   ]
  },
  {
   "cell_type": "code",
   "execution_count": null,
   "id": "71b2f6ac",
   "metadata": {
    "dotnet_interactive": {
     "language": "pwsh"
    },
    "polyglot_notebook": {
     "kernelName": "pwsh"
    },
    "vscode": {
     "languageId": "powershell"
    }
   },
   "outputs": [],
   "source": [
    "$ListTitle = 'EventsCal'\n",
    "$NewList = New-PnPList -Title $ListTitle -Template GenericList\n",
    "Add-PnPField -List $NewList -DisplayName 'Start' -InternalName 'Start' -Type DateTime -AddToDefaultView\n",
    "Add-PnPField -List $NewList -DisplayName 'End' -InternalName 'End' -Type DateTime -AddToDefaultView\n",
    "Add-PnPField -List $NewList -DisplayName 'Event Type' -InternalName 'EventType' -Type `\n",
    "     Choice -AddToDefaultView -Choices 'Meeting','Review','StandUp'\n",
    "$NewViewJson = @\"\n",
    "{\n",
    "    \"parameters\": {\n",
    "        \"__metadata\": {\n",
    "            \"type\": \"SP.ViewCreationInformation\"\n",
    "        },\n",
    "        \"Title\": \"Calendar\",\n",
    "        \"ViewFields\": {\n",
    "            \"__metadata\": {\n",
    "                \"type\": \"Collection(Edm.String)\"\n",
    "            },\n",
    "            \"results\": [\n",
    "                \"Start\",\n",
    "                \"End\",\n",
    "                \"Title\"\n",
    "            ]\n",
    "        },\n",
    "        \"ViewTypeKind\": 1,\n",
    "        \"ViewType2\": \"MODERNCALENDAR\",\n",
    "        \"ViewData\": \"<FieldRef Name=\\\"Title\\\" Type=\\\"CalendarMonthTitle\\\" /><FieldRef Name=\\\"Title\\\" Type=\\\"CalendarWeekTitle\\\" /><FieldRef Name=\\\"Title\\\" Type=\\\"CalendarWeekLocation\\\" /><FieldRef Name=\\\"Title\\\" Type=\\\"CalendarDayTitle\\\" /><FieldRef Name=\\\"Title\\\" Type=\\\"CalendarDayLocation\\\" />\",\n",
    "        \"CalendarViewStyles\": \"<CalendarViewStyle Title=\\\"Day\\\" Type=\\\"day\\\" Template=\\\"CalendarViewdayChrome\\\" Sequence=\\\"1\\\" Default=\\\"FALSE\\\" /><CalendarViewStyle Title=\\\"Week\\\" Type=\\\"week\\\" Template=\\\"CalendarViewweekChrome\\\" Sequence=\\\"2\\\" Default=\\\"FALSE\\\" /><CalendarViewStyle Title=\\\"Month\\\" Type=\\\"month\\\" Template=\\\"CalendarViewmonthChrome\\\" Sequence=\\\"3\\\" Default=\\\"TRUE\\\" />\",\n",
    "        \"Query\": \"\",\n",
    "        \"Paged\": true,\n",
    "        \"PersonalView\": false,\n",
    "        \"RowLimit\": 0\n",
    "    }\n",
    "}\n",
    "\"@\n",
    "\n",
    "$params = @{\n",
    "    Method = 'Post'\n",
    "    Url = \"$NewSiteUrl/_api/web/lists/GetByTitle('$ListTitle')/Views/Add\"\n",
    "    ContentType = 'application/json;odata=verbose'\n",
    "    Content = $NewViewJson\n",
    "}\n",
    "Invoke-PnPSPRestMethod @params\n",
    "Set-PnPView -List $NewList -Identity 'Calendar' -Values @{DefaultView=$true;MobileView=$true;MobileDefaultView=$true}"
   ]
  },
  {
   "cell_type": "markdown",
   "id": "6df335e0",
   "metadata": {},
   "source": [
    "---\n",
    "\n",
    "### SharePoint Online Recycle Bin Recovery\n",
    "\n",
    "Missing files in the [Communications team](https://teams.microsoft.com/_#/FileBrowserTabApp/General?threadId=19:bNptpdnXX7ChA7wbkWPLq9h_B5HKlMrYudpWrmMfyUA1@thread.tacv2&ctx=channel) site?  Check the recycle bin."
   ]
  },
  {
   "cell_type": "code",
   "execution_count": null,
   "id": "7a205bbc",
   "metadata": {
    "dotnet_interactive": {
     "language": "pwsh"
    },
    "polyglot_notebook": {
     "kernelName": "pwsh"
    },
    "vscode": {
     "languageId": "powershell"
    }
   },
   "outputs": [],
   "source": [
    "$SiteUrl = \"https://$($Tenant).sharepoint.com/sites/Communications\"\n",
    "Connect-PnPOnline -Url $SiteUrl -Credentials $MeganCreds\n",
    "$DeletedByUPN = $MeganUPN\n",
    "$RBin = Get-PnPRecycleBinItem | Where-Object DeletedByEmail -eq $DeletedByUPN\n",
    "$Rbin.Count\n",
    "$Rbin[0] | select DeletedByName,DeletedDate,DirName,Title | fl *"
   ]
  },
  {
   "cell_type": "code",
   "execution_count": null,
   "id": "43c5668d",
   "metadata": {
    "dotnet_interactive": {
     "language": "pwsh"
    },
    "polyglot_notebook": {
     "kernelName": "pwsh"
    },
    "vscode": {
     "languageId": "powershell"
    }
   },
   "outputs": [],
   "source": [
    "#How about just PowerPoint files?\n",
    "$RBin = Get-PnPRecycleBinItem | \n",
    "    Where-Object {($_.DeletedByEmail -eq $DeletedByUPN) -and ($_.Title -like '*.pptx') }\n",
    "$Rbin.Count\n",
    "$Rbin | select Title"
   ]
  },
  {
   "cell_type": "code",
   "execution_count": null,
   "id": "a121b616",
   "metadata": {
    "dotnet_interactive": {
     "language": "pwsh"
    },
    "polyglot_notebook": {
     "kernelName": "pwsh"
    },
    "vscode": {
     "languageId": "powershell"
    }
   },
   "outputs": [],
   "source": [
    "# Retore just PowerPoint files\n",
    "Get-PnPRecycleBinItem | \n",
    "    Where-Object {\n",
    "        ($_.DeletedByEmail -eq $DeletedByUPN) -and ($_.Title -like '*.pptx') } |\n",
    "        Restore-PnPRecycleBinItem -Force"
   ]
  },
  {
   "cell_type": "markdown",
   "id": "7dcc81ec",
   "metadata": {},
   "source": [
    "#### Restore the files to the site deleted on a specific day by a specific user."
   ]
  },
  {
   "cell_type": "code",
   "execution_count": null,
   "id": "902a2694",
   "metadata": {
    "dotnet_interactive": {
     "language": "pwsh"
    },
    "polyglot_notebook": {
     "kernelName": "pwsh"
    },
    "vscode": {
     "languageId": "powershell"
    }
   },
   "outputs": [],
   "source": [
    "#Estimate the restore\n",
    "$Culture = Get-Culture\n",
    "$DeletedDate = '3/15/2023'\n",
    "$DeletedByUPN = $MeganUPN\n",
    "(Get-PnPRecycleBinItem | \n",
    "    Where-Object {\n",
    "        ($_.DeletedByEmail -eq $DeletedByUPN) -and \n",
    "        ($_.DeletedDate.ToDateTime($Culture).ToShortDateString() -eq $DeletedDate) \n",
    "        } ).count"
   ]
  },
  {
   "cell_type": "code",
   "execution_count": null,
   "id": "de4cb0ee",
   "metadata": {
    "dotnet_interactive": {
     "language": "pwsh"
    },
    "polyglot_notebook": {
     "kernelName": "pwsh"
    },
    "vscode": {
     "languageId": "powershell"
    }
   },
   "outputs": [],
   "source": [
    "#Complete the restore\n",
    "Get-PnPRecycleBinItem | \n",
    "    Where-Object {\n",
    "        ($_.DeletedByEmail -eq $DeletedByUPN) -and \n",
    "        ($_.DeletedDate.ToDateTime($culture).ToShortDateString() -eq $DeletedDate) } | \n",
    "        Restore-PnPRecycleBinItem -Force"
   ]
  },
  {
   "cell_type": "markdown",
   "id": "28c4b867",
   "metadata": {},
   "source": [
    "---\n",
    "\n",
    "### Create SharePoint Online Document Library for Reports\n",
    "\n",
    "https://m365x49343708.sharepoint.com/sites/Retail\n",
    "\n",
    "https://m365x49343708.sharepoint.com/sites/Retail/_layouts/15/user.aspx\n",
    "\n",
    "https://m365x49343708.sharepoint.com/sites/Retail/_layouts/15/groups.aspx\n",
    "\n",
    "Need to be a Team Owner or Site Collection Administrator"
   ]
  },
  {
   "cell_type": "code",
   "execution_count": null,
   "id": "8be33c6b",
   "metadata": {
    "dotnet_interactive": {
     "language": "pwsh"
    },
    "polyglot_notebook": {
     "kernelName": "pwsh"
    },
    "vscode": {
     "languageId": "powershell"
    }
   },
   "outputs": [],
   "source": [
    "#Connect to the site collection\n",
    "$SiteUrl = \"https://$($Tenant).sharepoint.com/sites/Retail\"\n",
    "Connect-PnPOnline -Url $SiteUrl -Credentials $MeganCreds\n",
    "#Set up variables\n",
    "$M365Grp = 'Retail Members'\n",
    "$GrpOwner = 'Retail Owners'\n",
    "$DocLibName = 'Reports'\n",
    "$AddOnlyName = 'AddOnly'\n",
    "#Convert Here-String as CSV to PS Object\n",
    "$csv = @\"\n",
    "\"Region\",\"Country\",\"RegMgr\",\"CtryMgr\"\n",
    "\"AsiaPacific\",\"Japan\",\"alexw\",\"IrvinS\"\n",
    "\"AsiaPacific\",\"India\",\"alexw\",\"IrvinS\"\n",
    "\"AsiaPacific\",\"China\",\"alexw\",\"JoniS\"\n",
    "\"AsiaPacific\",\"Korea\",\"alexw\",\"JoniS\"\n",
    "\"AsiaPacific\",\"Indonesia\",\"alexw\",\"LeeG\"\n",
    "\"AsiaPacific\",\"Australia\",\"alexw\",\"LeeG\"\n",
    "\"Europe\",\"UK\",\"isaiahl\",\"MiriamG\"\n",
    "\"Europe\",\"Turkey\",\"isaiahl\",\"LidiaH\"\n",
    "\"Europe\",\"Germany\",\"isaiahl\",\"MiriamG\"\n",
    "\"Europe\",\"Spain\",\"isaiahl\",\"MiriamG\"\n",
    "\"Europe\",\"France\",\"isaiahl\",\"LynneR\"\n",
    "\"Europe\",\"Italy\",\"isaiahl\",\"LynneR\"\n",
    "\"Americas\",\"Canada\",\"adelev\",\"NestorW\"\n",
    "\"Americas\",\"USA\",\"adelev\",\"NestorW\"\n",
    "\"Americas\",\"Mexico\",\"adelev\",\"PattiF\"\n",
    "\"Americas\",\"Brazil\",\"adelev\",\"PradeepG\"\n",
    "\"@\n",
    "$Countries = $csv | ConvertFrom-Csv\n",
    "$Countries | ft -AutoSize"
   ]
  },
  {
   "cell_type": "code",
   "execution_count": null,
   "id": "53517fc5",
   "metadata": {
    "dotnet_interactive": {
     "language": "pwsh"
    },
    "polyglot_notebook": {
     "kernelName": "pwsh"
    },
    "vscode": {
     "languageId": "powershell"
    }
   },
   "outputs": [],
   "source": [
    "#Create SharePoint Online (SPO) group for managing all other groups\n",
    "New-PNPGroup -Title \"$DocLibName Group Managers\" `\n",
    "    -Description \"Members can manage $DocLibName groups.\" `\n",
    "    -Owner $GrpOwner\n",
    "\n",
    "#Create SPO groups for base permissions on library - view, add, modify\n",
    "New-PNPGroup -Title \"$($DocLibName)_All_View\" `\n",
    "    -Description \"Members can view all $DocLibName content.\" `\n",
    "    -Owner \"$DocLibName Group Managers\"\n",
    "New-PNPGroup -Title \"$($DocLibName)_All_Add\" `\n",
    "    -Description \"Members can add content to all $DocLibName folders.\" `\n",
    "    -Owner \"$DocLibName Group Managers\"\n",
    "New-PNPGroup -Title \"$($DocLibName)_All_Modify\" `\n",
    "    -Description \"Members can modify all $DocLibName content.\" `\n",
    "    -Owner \"$DocLibName Group Managers\"\n",
    "\n",
    "#Create new permissions level for only adding items to library - no delete/edit\n",
    "Add-PnPRoleDefinition -RoleName $AddOnlyName -Clone \"Contribute\" `\n",
    "    -Description 'Can add items to the library, but not edit or delete existing items.' `\n",
    "    -Exclude DeleteListItems,EditListItems,DeleteVersions"
   ]
  },
  {
   "cell_type": "code",
   "execution_count": null,
   "id": "e41a93a2",
   "metadata": {
    "dotnet_interactive": {
     "language": "pwsh"
    },
    "polyglot_notebook": {
     "kernelName": "pwsh"
    },
    "vscode": {
     "languageId": "powershell"
    }
   },
   "outputs": [],
   "source": [
    "#Create the document library\n",
    "New-PnPList -Title $DocLibName -Template DocumentLibrary -Url $DocLibName -OnQuickLaunch\n",
    "$Lib = Get-PnPList -Identity $DocLibName\n",
    "$Lib.Title"
   ]
  },
  {
   "cell_type": "code",
   "execution_count": null,
   "id": "dab1e634",
   "metadata": {
    "dotnet_interactive": {
     "language": "pwsh"
    },
    "polyglot_notebook": {
     "kernelName": "pwsh"
    },
    "vscode": {
     "languageId": "powershell"
    }
   },
   "outputs": [],
   "source": [
    "#Set base library permissions\n",
    "Set-PnPList -Identity $DocLibName -BreakRoleInheritance -ClearSubscopes\n",
    "Set-PnPListPermission -Identity $DocLibName -Group \"$($DocLibName)_All_View\" -AddRole 'Read'\n",
    "Set-PnPListPermission -Identity $DocLibName -Group \"$($DocLibName)_All_Add\" -AddRole $AddOnlyName\n",
    "Set-PnPListPermission -Identity $DocLibName -Group \"$($DocLibName)_All_Modify\" -AddRole 'Contribute'"
   ]
  },
  {
   "cell_type": "code",
   "execution_count": null,
   "id": "2caaca79",
   "metadata": {
    "dotnet_interactive": {
     "language": "pwsh"
    },
    "polyglot_notebook": {
     "kernelName": "pwsh"
    },
    "vscode": {
     "languageId": "powershell"
    }
   },
   "outputs": [],
   "source": [
    "#Create first set of subfolders for each region\n",
    "$RegionInfo = $Countries | Sort-Object Region | Select-Object Region,RegMgr -Unique\n",
    "$RegionInfo\n",
    "$Regions = $RegionInfo.Region\n",
    "#Create regional folders\n",
    "foreach ($Region in $Regions) {\n",
    "    Add-PnPFolder -Name $Region -Folder $DocLibName\n",
    "}"
   ]
  },
  {
   "cell_type": "code",
   "execution_count": null,
   "id": "3c9ff91a",
   "metadata": {
    "dotnet_interactive": {
     "language": "pwsh"
    },
    "polyglot_notebook": {
     "kernelName": "pwsh"
    },
    "vscode": {
     "languageId": "powershell"
    }
   },
   "outputs": [],
   "source": [
    "#Create regional SPO groups\n",
    "foreach ($Region in $Regions) {\n",
    "    New-PNPGroup -Title \"$($DocLibName)_$($Region)_View\" `\n",
    "        -Description \"Members can view all $($Region) content.\" `\n",
    "        -Owner \"$DocLibName Group Managers\"\n",
    "    New-PNPGroup -Title \"$($DocLibName)_$($Region)_Add\" `\n",
    "        -Description \"Members can add content to all $($Region) folders.\" `\n",
    "        -Owner \"$DocLibName Group Managers\"\n",
    "    New-PNPGroup -Title \"$($DocLibName)_$($Region)_Modify\" `\n",
    "        -Description \"Members can modify all $($Region) content.\" `\n",
    "        -Owner \"$DocLibName Group Managers\"\n",
    "}"
   ]
  },
  {
   "cell_type": "code",
   "execution_count": null,
   "id": "9ec6f179",
   "metadata": {
    "dotnet_interactive": {
     "language": "pwsh"
    },
    "polyglot_notebook": {
     "kernelName": "pwsh"
    },
    "vscode": {
     "languageId": "powershell"
    }
   },
   "outputs": [],
   "source": [
    "#Add permissions to each regional folder\n",
    "foreach ($Region in $Regions) {\n",
    "    Set-PnPFolderPermission -List $DocLibName -Identity \"$DocLibName/$Region\" `\n",
    "        -Group \"$($DocLibName)_$($Region)_View\" -AddRole 'Read'\n",
    "    Set-PnPFolderPermission -List $DocLibName -Identity \"$DocLibName/$Region\" `\n",
    "        -Group \"$($DocLibName)_$($Region)_Add\" -AddRole $AddOnlyName\n",
    "    Set-PnPFolderPermission -List $DocLibName -Identity \"$DocLibName/$Region\" `\n",
    "        -Group \"$($DocLibName)_$($Region)_Modify\" -AddRole 'Contribute'\n",
    "}"
   ]
  },
  {
   "cell_type": "code",
   "execution_count": null,
   "id": "e4253157",
   "metadata": {
    "dotnet_interactive": {
     "language": "pwsh"
    },
    "polyglot_notebook": {
     "kernelName": "pwsh"
    },
    "vscode": {
     "languageId": "powershell"
    }
   },
   "outputs": [],
   "source": [
    "#Create country folders in each regional folder\n",
    "foreach ($Country in $Countries) {\n",
    "    Add-PnPFolder -Name $Country.Country -Folder \"$DocLibName/$($Country.Region)\"\n",
    "}"
   ]
  },
  {
   "cell_type": "code",
   "execution_count": null,
   "id": "5fb3c5a8",
   "metadata": {
    "dotnet_interactive": {
     "language": "pwsh"
    },
    "polyglot_notebook": {
     "kernelName": "pwsh"
    },
    "vscode": {
     "languageId": "powershell"
    }
   },
   "outputs": [],
   "source": [
    "#Create country SPO groups\n",
    "foreach ($Country in $Countries) {\n",
    "    New-PNPGroup -Title \"$($DocLibName)_$($Country.Country)_View\" `\n",
    "        -Description \"Members can view all $($Country.Country) content.\" `\n",
    "        -Owner \"$DocLibName Group Managers\"\n",
    "    New-PNPGroup -Title \"$($DocLibName)_$($Country.Country)_Add\" `\n",
    "        -Description \"Members can add content to all $($Country.Country) folders.\" `\n",
    "        -Owner \"$DocLibName Group Managers\"\n",
    "    New-PNPGroup -Title \"$($DocLibName)_$($Country.Country)_Modify\" `\n",
    "        -Description \"Members can modify all $($Country.Country) content.\" `\n",
    "        -Owner \"$DocLibName Group Managers\"\n",
    "}"
   ]
  },
  {
   "cell_type": "code",
   "execution_count": null,
   "id": "60fc1450",
   "metadata": {
    "dotnet_interactive": {
     "language": "pwsh"
    },
    "polyglot_notebook": {
     "kernelName": "pwsh"
    },
    "vscode": {
     "languageId": "powershell"
    }
   },
   "outputs": [],
   "source": [
    "#Add permissions to each country folder\n",
    "foreach ($Country in $Countries) {\n",
    "    $RegName = $Country.Region\n",
    "    $CntryName = $Country.Country\n",
    "    Set-PnPFolderPermission -List $DocLibName -Identity \"$DocLibName/$RegName/$CntryName\" `\n",
    "    -Group \"$($DocLibName)_$($CntryName)_View\" -AddRole 'Read'\n",
    "    Set-PnPFolderPermission -List $DocLibName -Identity \"$DocLibName/$RegName/$CntryName\" `\n",
    "    -Group \"$($DocLibName)_$($CntryName)_Add\" -AddRole $AddOnlyName\n",
    "    Set-PnPFolderPermission -List $DocLibName -Identity \"$DocLibName/$RegName/$CntryName\" `\n",
    "    -Group \"$($DocLibName)_$($CntryName)_Modify\" -AddRole 'Contribute'\n",
    "}"
   ]
  },
  {
   "cell_type": "code",
   "execution_count": null,
   "id": "3343382f",
   "metadata": {
    "dotnet_interactive": {
     "language": "pwsh"
    },
    "polyglot_notebook": {
     "kernelName": "pwsh"
    },
    "vscode": {
     "languageId": "powershell"
    }
   },
   "outputs": [],
   "source": [
    "#Add Regional Managers to their appropriate groups\n",
    "foreach ($Region in $RegionInfo) {\n",
    "    $UPN = \"$($Region.RegMgr)@$Domain\"\n",
    "    $Grp = \"$($DocLibName)_$($Region.Region)_Modify\"\n",
    "    Write-Output ($UPN + \" \" + $Grp)\n",
    "    Add-PnPGroupMember -LoginName $UPN -Group $Grp\n",
    "}"
   ]
  },
  {
   "cell_type": "code",
   "execution_count": null,
   "id": "1e95ad95",
   "metadata": {
    "dotnet_interactive": {
     "language": "pwsh"
    },
    "polyglot_notebook": {
     "kernelName": "pwsh"
    },
    "vscode": {
     "languageId": "powershell"
    }
   },
   "outputs": [],
   "source": [
    "#Add Country Managers to their appropriate groups\n",
    "foreach ($Country in $Countries) {\n",
    "    $UPN = \"$($Country.CtryMgr)@$Domain\"\n",
    "    $Grp = \"$($DocLibName)_$($Country.Country)_Modify\"\n",
    "    Write-Output ($UPN + \" \" + $Grp)    \n",
    "    Add-PnPGroupMember -LoginName $UPN -Group $Grp\n",
    "}"
   ]
  },
  {
   "cell_type": "code",
   "execution_count": null,
   "id": "9fa29464",
   "metadata": {
    "dotnet_interactive": {
     "language": "pwsh"
    },
    "polyglot_notebook": {
     "kernelName": "pwsh"
    },
    "vscode": {
     "languageId": "powershell"
    }
   },
   "outputs": [],
   "source": [
    "#Create group for \"getting in the door\" and seeing root folders (the regional folders).\n",
    "#This is done last so the group is not propagated into deeper subfolders\n",
    "New-PnPGroup -Title \"$($DocLibName)_RootFolder_View\" `\n",
    "    -Description \"Members can gain access to the root of the library.\" `\n",
    "    -Owner \"$DocLibName Group Managers\"\n",
    "#Add the teams M365 Group to be able to see into just the root of the Reports folder and regional folders.\n",
    "#Get in the front door, so managers will see their folders.\n",
    "Add-PnPGroupMember -LoginName $M365Grp -Group \"$($DocLibName)_RootFolder_View\"\n",
    "#Add the group to the root folder of the library\n",
    "Set-PnPListPermission -Identity $DocLibName -Group \"$($DocLibName)_RootFolder_View\" -AddRole 'Read'\n",
    "#Add the group to the regional folders\n",
    "foreach ($Region in $Regions) {\n",
    "    Set-PnPFolderPermission -List $DocLibName -Identity \"$DocLibName/$Region\" `\n",
    "        -Group \"$($DocLibName)_RootFolder_View\" -AddRole 'Read'\n",
    "}"
   ]
  },
  {
   "cell_type": "markdown",
   "id": "d1f4e858",
   "metadata": {},
   "source": [
    "--- \n",
    "### Create a Microsoft Team, add channels, add members"
   ]
  },
  {
   "cell_type": "code",
   "execution_count": null,
   "id": "9c6283d8",
   "metadata": {
    "dotnet_interactive": {
     "language": "pwsh"
    },
    "polyglot_notebook": {
     "kernelName": "pwsh"
    },
    "vscode": {
     "languageId": "powershell"
    }
   },
   "outputs": [],
   "source": [
    "#Name of the Team and Description\n",
    "$TeamName = 'Connections 2023'\n",
    "$MailNickName = 'Connections2023'\n",
    "$TeamDesc = 'Connections 2023 - Make It Happen!'\n",
    "#Convert Here-String as CSV to PS Object\n",
    "$csv = @\"\n",
    "\"DisplayName\",\"Description\",\"BreakoutQty\"\n",
    "\"🎵 Lounge\",\"Meet up and connect with your peers\",\"\"\n",
    "\"👀 Announcements\",\"Information about the event\",\"\"\t\n",
    "\"💾 Tech Support\",\"Get help with Teams and more\",\"\"\n",
    "\"🌎 Region\",\"Talk with Regional Reps\",\"\"\n",
    "\"🚍 Vendors\",\"Connect with Vendors\",\"3\"\n",
    "\"@\n",
    "$Channels = $csv | ConvertFrom-Csv\n",
    "$Channels | ft -AutoSize"
   ]
  },
  {
   "cell_type": "code",
   "execution_count": null,
   "id": "942470c6",
   "metadata": {
    "dotnet_interactive": {
     "language": "pwsh"
    },
    "polyglot_notebook": {
     "kernelName": "pwsh"
    },
    "vscode": {
     "languageId": "powershell"
    }
   },
   "outputs": [],
   "source": [
    "Connect-MicrosoftTeams -Credential $MeganCreds"
   ]
  },
  {
   "cell_type": "code",
   "execution_count": null,
   "id": "abb5fa88",
   "metadata": {
    "dotnet_interactive": {
     "language": "pwsh"
    },
    "polyglot_notebook": {
     "kernelName": "pwsh"
    },
    "vscode": {
     "languageId": "powershell"
    }
   },
   "outputs": [],
   "source": [
    "#Create new Microsoft Teams Team\n",
    "$TeamSplat = @{\n",
    "    DisplayName                         = $TeamName\n",
    "    Description                         = $TeamDesc\n",
    "    MailNickName                        = $MailNickName\n",
    "    Visibility                          = 'Private'\n",
    "    AllowCreateUpdateChannels           = $false\n",
    "    AllowDeleteChannels                 = $false\n",
    "    AllowAddRemoveApps                  = $false\n",
    "    AllowCreateUpdateRemoveTabs         = $false\n",
    "    AllowCreateUpdateRemoveConnectors   = $false\n",
    "    AllowTeamMentions                   = $false\n",
    "}\n",
    "$Team = New-Team @TeamSplat"
   ]
  },
  {
   "cell_type": "code",
   "execution_count": null,
   "id": "83bb9379",
   "metadata": {
    "dotnet_interactive": {
     "language": "pwsh"
    },
    "polyglot_notebook": {
     "kernelName": "pwsh"
    },
    "vscode": {
     "languageId": "powershell"
    }
   },
   "outputs": [],
   "source": [
    "$GroupId = $Team.GroupId\n",
    "$Team | fl *"
   ]
  },
  {
   "cell_type": "code",
   "execution_count": null,
   "id": "610107d1",
   "metadata": {
    "dotnet_interactive": {
     "language": "pwsh"
    },
    "polyglot_notebook": {
     "kernelName": "pwsh"
    },
    "vscode": {
     "languageId": "powershell"
    }
   },
   "outputs": [],
   "source": [
    "#Sanity check\n",
    "$TotalChannels = 1 + ($Channels | Measure-Object 'BreakoutQty' -Sum).Sum + `\n",
    "    $Channels.Count - ($Channels | Where-Object 'BreakoutQty' -gt 0).count\n",
    "if ($TotalChannels -gt 200) {\n",
    "    throw \"More than 200 total channels! ($TotalChannels)\"\n",
    "}\n",
    "$TotalChannels"
   ]
  },
  {
   "cell_type": "code",
   "execution_count": null,
   "id": "8e7146c7",
   "metadata": {
    "dotnet_interactive": {
     "language": "pwsh"
    },
    "polyglot_notebook": {
     "kernelName": "pwsh"
    },
    "vscode": {
     "languageId": "powershell"
    }
   },
   "outputs": [],
   "source": [
    "#Start creating the channels\n",
    "#Breakout channels: If < 100 then \"Channel##\"; If > 100, then \"Channel###\"\n",
    "foreach ($Channel in $Channels) {\n",
    "    #Start-Sleep -Milliseconds 1500\n",
    "    $ChannelName = ''\n",
    "    $NewChannelName = ''\n",
    "    $NewChannelRoot = ''\n",
    "    $ChannelBrkOName = ''\n",
    "    $ChannelNewName = ''\n",
    "    Write-Output \"------------\"\n",
    "    $ChannelName = $Channel.DisplayName\n",
    "    Write-Output \"Working on channel: $ChannelName\"\n",
    "    if (($Channel.BreakoutQty -le 0) -or ($null -eq $Channel.BreakoutQty)) {\n",
    "        New-TeamChannel -GroupId $GroupId -DisplayName $ChannelName -Description $Channel.Description\n",
    "    }\n",
    "    elseif ($Channel.BreakoutQty -gt 0) {\n",
    "        if ($Channel.BreakoutQty -le 99) {\n",
    "            1..$Channel.BreakoutQty |\n",
    "            ForEach-Object {\n",
    "                #Start-Sleep -Milliseconds 1500\n",
    "                $ChannelBrkOName = \"$ChannelName\" + (\"{0:D2}\" -f $_)\n",
    "                New-TeamChannel -GroupId $GroupId -DisplayName $ChannelBrkOName -Description $Channel.Description\n",
    "            }\n",
    "        }\n",
    "        elseif ( ($Channel.BreakoutQty -le 199) -and ($Channel.BreakoutQty -ge 100)) {\n",
    "            1..$Channel.BreakoutQty |\n",
    "            ForEach-Object {\n",
    "                #Start-Sleep -Milliseconds 1500\n",
    "                $ChannelBrkOName = \"$ChannelName\" + (\"{0:D3}\" -f $_)\n",
    "                New-TeamChannel -GroupId $GroupId -DisplayName $ChannelBrkOName -Description $Channel.Description\n",
    "            }\n",
    "        }\n",
    "        else {\n",
    "            Write-Output \"Too many breakout channels requested!\"\n",
    "        }\n",
    "    }\n",
    "}"
   ]
  },
  {
   "cell_type": "code",
   "execution_count": null,
   "id": "71eac4b2",
   "metadata": {
    "dotnet_interactive": {
     "language": "pwsh"
    },
    "polyglot_notebook": {
     "kernelName": "pwsh"
    },
    "vscode": {
     "languageId": "powershell"
    }
   },
   "outputs": [],
   "source": [
    "#Add members to the team\n",
    "Add-TeamUser -GroupId $GroupId -Role Owner -User \"AlexW@$Domain\"\n",
    "Add-TeamUser -GroupId $GroupId -Role Member -User \"NestorW@$Domain\""
   ]
  },
  {
   "cell_type": "markdown",
   "id": "adc491b8",
   "metadata": {},
   "source": [
    "---\n",
    "\n",
    "### Active Directory Method to get Teams Owned by a User\n",
    "\n",
    "Hybrid, on-premises - M365 Groups written back to AD\n",
    "\n",
    "Permissions to read AD MemberOf attribute"
   ]
  },
  {
   "cell_type": "code",
   "execution_count": null,
   "id": "9162a973",
   "metadata": {
    "dotnet_interactive": {
     "language": "pwsh"
    },
    "polyglot_notebook": {
     "kernelName": "pwsh"
    },
    "vscode": {
     "languageId": "powershell"
    }
   },
   "outputs": [],
   "source": [
    "function Get-M365GroupsOwned\n",
    "{\n",
    "    [CmdletBinding(SupportsShouldProcess=$true,\n",
    "                  PositionalBinding=$true)]\n",
    "    [Alias()]\n",
    "    [OutputType([String])]\n",
    "    Param\n",
    "    (\n",
    "        [Parameter(Mandatory=$true,\n",
    "                   ValueFromPipeline=$true,\n",
    "                   ValueFromPipelineByPropertyName=$true,\n",
    "                   ValueFromRemainingArguments=$false,\n",
    "                   Position=0)]\n",
    "        [ValidateNotNull()]\n",
    "        [ValidateNotNullOrEmpty()]\n",
    "        $Username\n",
    "    )\n",
    "\n",
    "    Begin {\n",
    "    }\n",
    "    Process\n",
    "    {\n",
    "        if ($pscmdlet.ShouldProcess(\"Target\", \"Operation\")) {\n",
    "            $User = Get-ADUser -Identity $Username -Properties MemberOf\n",
    "            $M365Groups = $User | Select-Object MemberOf\n",
    "\n",
    "            foreach ( $Group in $M365Groups.MemberOf ) {\n",
    "                if ($Group -like 'CN=Group_*') {\n",
    "                    $Owners = Get-ADGroup -Identity $Group -Properties msExchCoManagedByLink | \n",
    "                        Select-Object msExchCoManagedByLink -ExpandProperty msExchCoManagedByLink\n",
    "                    if ( $Owners.Contains($User.DistinguishedName) ) {\n",
    "                        Get-ADGroup $Group -Properties DisplayName | Select-Object DisplayName,Name\n",
    "                    }\n",
    "                }\n",
    "            }\n",
    "        }\n",
    "    }\n",
    "    End {\n",
    "    }\n",
    "}"
   ]
  },
  {
   "cell_type": "markdown",
   "id": "a976fa32",
   "metadata": {},
   "source": [
    "```powershell\n",
    "PS R:\\> Get-M365GroupsOwned -Username EgonSpengler\n",
    "\n",
    "DisplayName                         Name\n",
    "-----------                         ----\n",
    "Climate and Carbon C2E              Group_1c258a66-dd85-478e-9b7d-6d7b0ef2cca2\n",
    "Slime Working Group                 Group_f1d23793-dd8b-489b-855f-2c1ae66962e8\n",
    "Impact Quantification               Group_7d3b5b0a-6421-4e6c-9486-874d46421eac\n",
    "Assoc Counties Education            Group_e7b7871a-849c-4293-1ae6-06bdd85449d0\n",
    "Urban Landscapes                    Group_68038793-97a0-475b-b96f-4a45a6685a58\n",
    "Biomass Communications              Group_51d23f69-4ae1-432b-dd85-4028aea1c258\n",
    "```"
   ]
  },
  {
   "cell_type": "markdown",
   "id": "cca5ce7a",
   "metadata": {},
   "source": [
    "---\n",
    "\n",
    "### Active Directory Method to Report User's Teams/Groups Memberships\n",
    "\n",
    "Hybrid, on-premises - M365 Groups written back to AD\n",
    "\n",
    "Permissions to read AD MemberOf attribute"
   ]
  },
  {
   "cell_type": "code",
   "execution_count": null,
   "id": "ad6ec0b7",
   "metadata": {
    "dotnet_interactive": {
     "language": "pwsh"
    },
    "polyglot_notebook": {
     "kernelName": "pwsh"
    },
    "vscode": {
     "languageId": "powershell"
    }
   },
   "outputs": [],
   "source": [
    "function Get-M365GroupsForUser\n",
    "{\n",
    "    [CmdletBinding()]\n",
    "    [Alias()]\n",
    "    [OutputType([string])]\n",
    "    Param\n",
    "    (\n",
    "        # Param1 help description\n",
    "        [Parameter(Mandatory=$true,\n",
    "                   ValueFromPipelineByPropertyName=$true,\n",
    "                   Position=0)]\n",
    "        $UserName,\n",
    "        [switch]$Report\n",
    "    )\n",
    "\n",
    "    Begin\n",
    "    {\n",
    "        class InfoObject {\n",
    "            [string]$DisplayName\n",
    "            [string]$ShortName\n",
    "            [string]$GroupId\n",
    "            [datetime]$Created\n",
    "            [int]$NumMembers\n",
    "            [string]$Owners\n",
    "            [string]$Description\n",
    "\n",
    "            InfoObject($DisplayName, $ShortName, $GroupId, $Created, $NumMembers, $Owners, $Description) {\n",
    "                $this.DisplayName = $DisplayName\n",
    "                $this.ShortName = $ShortName\n",
    "                $this.GroupId = $GroupId\n",
    "                $this.Created = $Created\n",
    "                $this.NumMembers = $NumMembers\n",
    "                $this.Owners = $Owners\n",
    "                $this.Description = $Description\n",
    "            }\n",
    "        }\n",
    "    }\n",
    "    Process\n",
    "    {\n",
    "    $Groups = ((Get-ADUser -Properties MemberOf -Identity $UserName).MemberOf).Where{$_ -match 'CN=Group_'}\n",
    "    foreach ($Group in $Groups) {\n",
    "        if ($Report.IsPresent) {\n",
    "            $RptGrp = Get-ADGroup $Group `\n",
    "                -Properties DisplayName,mailNickname,Name,Created,`\n",
    "                msExchGroupMemberCount,msExchCoManagedByLink,Description\n",
    "            $OwnersFQ = Get-ADGroup $Group -Properties msExchCoManagedByLink | \n",
    "                Select-Object -ExpandProperty msExchCoManagedByLink\n",
    "            $OwnersNames = foreach ($OwnerListed in $OwnersFQ) { $OwnerListed.Replace('CN=','').Split(',')[0] }\n",
    "            $col1 = $RptGrp.DisplayName\n",
    "            $col2 = $RptGrp.MailNickName\n",
    "            $col3 = $RptGrp.Name.Replace('Group_','')\n",
    "            $col4 = $RptGrp.Created\n",
    "            $col5 = $RptGrp.msExchGroupMemberCount\n",
    "            $col6 = $OwnersNames -join ';'\n",
    "            $col7 = $RptGrp.Description\n",
    "\n",
    "            [InfoObject]::new($col1, $col2, $col3, $col4, $col5, $col6, $col7)\n",
    "        } else {\n",
    "            Get-ADGroup $Group -Properties *\n",
    "        }\n",
    "    }\n",
    "    }\n",
    "    End\n",
    "    {\n",
    "    }\n",
    "}"
   ]
  },
  {
   "cell_type": "markdown",
   "metadata": {},
   "source": [
    "```powershell\n",
    "PS R:\\> Get-M365GroupsForUser -UserName EgonSpengler -Report\n",
    "\n",
    "DisplayName : Slime Working Group\n",
    "ShortName   : SlimeWorkingGroup\n",
    "GroupId     : f1d23793-dd8b-489b-855f-2c1ae66962e8\n",
    "Created     : 10/15/2019 1:50:12 PM\n",
    "NumMembers  : 64\n",
    "Owners      : pvenkman;EgonSpengler\n",
    "Description : Slime Working Group\n",
    "\n",
    "DisplayName : Urban Alert Working Group\n",
    "ShortName   : UrbanAlertWorkingGroup\n",
    "GroupId     : 0e7bfea8-a021-4be4-8c5b-a709bfea0213\n",
    "Created     : 8/27/2019 2:01:50 PM\n",
    "NumMembers  : 16\n",
    "Owners      : pvenkman;rstantz\n",
    "Description : Urban protection and alert systems\n",
    "```"
   ]
  },
  {
   "cell_type": "markdown",
   "metadata": {},
   "source": [
    "---\n",
    "\n",
    "### References and Resources\n",
    "\n",
    "https://github.com/joegasper/Talks/tree/main/GNVPSUG"
   ]
  }
 ],
 "metadata": {
  "kernelInfo": {
   "defaultKernelName": null,
   "items": [
    {
     "aliases": [
      "c#",
      "cs"
     ],
     "languageName": "C#",
     "name": "csharp"
    },
    {
     "aliases": [
      "f#",
      "fs"
     ],
     "languageName": "F#",
     "name": "fsharp"
    },
    {
     "aliases": [
      "powershell"
     ],
     "languageName": "PowerShell",
     "name": "pwsh"
    },
    {
     "aliases": [
      "js"
     ],
     "languageName": "JavaScript",
     "name": "javascript"
    },
    {
     "languageName": "HTML",
     "name": "html"
    },
    {
     "languageName": "SQL",
     "name": "sql"
    },
    {
     "languageName": "KQL",
     "name": "kql"
    },
    {
     "languageName": "Mermaid",
     "name": "mermaid"
    },
    {
     "languageName": "HTTP",
     "name": "http"
    },
    {
     "name": "value"
    }
   ]
  },
  "language_info": {
   "name": "python"
  },
  "polyglot_notebook": {
   "kernelInfo": {
    "defaultKernelName": "csharp",
    "items": [
     {
      "aliases": [
       "C#",
       "c#"
      ],
      "languageName": "C#",
      "name": "csharp"
     },
     {
      "aliases": [
       "F#",
       "f#"
      ],
      "languageName": "F#",
      "name": "fsharp"
     },
     {
      "aliases": [],
      "languageName": "HTML",
      "name": "html"
     },
     {
      "aliases": [],
      "languageName": "KQL",
      "name": "kql"
     },
     {
      "aliases": [],
      "languageName": "Mermaid",
      "name": "mermaid"
     },
     {
      "aliases": [
       "powershell"
      ],
      "languageName": "PowerShell",
      "name": "pwsh"
     },
     {
      "aliases": [],
      "name": "value"
     }
    ]
   }
  }
 },
 "nbformat": 4,
 "nbformat_minor": 5
}
